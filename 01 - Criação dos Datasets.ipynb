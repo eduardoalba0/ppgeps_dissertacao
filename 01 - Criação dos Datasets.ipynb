{
 "cells": [
  {
   "metadata": {},
   "cell_type": "markdown",
   "source": "# Importações",
   "id": "9cc7a4c844a5230e"
  },
  {
   "cell_type": "code",
   "id": "initial_id",
   "metadata": {
    "collapsed": true,
    "ExecuteTime": {
     "end_time": "2025-01-16T21:01:52.088487Z",
     "start_time": "2025-01-16T21:01:52.081559Z"
    }
   },
   "source": [
    "from calendar import month\n",
    "\n",
    "import pandas as pd\n",
    "import datetime\n",
    "import calendar\n",
    "import locale\n",
    "import numpy as np\n",
    "import glob\n",
    "import os\n",
    "import math\n",
    "\n",
    "from jinja2 import Undefined\n",
    "\n",
    "locale.setlocale(locale.LC_TIME, 'pt_BR.UTF-8')\n"
   ],
   "outputs": [
    {
     "data": {
      "text/plain": [
       "'pt_BR.UTF-8'"
      ]
     },
     "execution_count": 94,
     "metadata": {},
     "output_type": "execute_result"
    }
   ],
   "execution_count": 94
  },
  {
   "metadata": {},
   "cell_type": "markdown",
   "source": "# Carregar datasets básicos",
   "id": "72f220b34ac4c7bb"
  },
  {
   "metadata": {
    "ExecuteTime": {
     "end_time": "2025-01-16T21:01:52.159252Z",
     "start_time": "2025-01-16T21:01:52.128188Z"
    }
   },
   "cell_type": "code",
   "source": [
    "consumo = pd.read_csv('./dados/consumo.csv', sep=\";\", header=0)\n",
    "consumo[\"DATA INICIO\"] = pd.to_datetime(consumo['DATA INICIO'], format='%d/%m/%Y')\n",
    "consumo[\"DATA FIM\"] = pd.to_datetime(consumo['DATA FIM'], format='%d/%m/%Y')\n",
    "feriados = pd.read_csv('dados/calendarios.csv', sep=\";\", header=0)\n",
    "cursos_sup = pd.read_csv('./dados/cursos_superiores.csv', sep=\";\", header=0)\n",
    "cursos_tec = pd.read_csv('./dados/cursos_tecnicos.csv', sep=\";\", header=0)\n"
   ],
   "id": "eef2d87d2ab50d81",
   "outputs": [],
   "execution_count": 95
  },
  {
   "metadata": {},
   "cell_type": "markdown",
   "source": "# Agrupar Datasets\n",
   "id": "e8c1b6d47fd60663"
  },
  {
   "metadata": {
    "ExecuteTime": {
     "end_time": "2025-01-16T21:01:52.261737Z",
     "start_time": "2025-01-16T21:01:52.242070Z"
    }
   },
   "cell_type": "code",
   "source": [
    "\n",
    "# Agrupando os dados por campus \n",
    "grupos_consumo = consumo.groupby('CAMPUS')\n",
    "grupos_feriados = feriados.groupby('CAMPUS')\n",
    "grupos_cursos_sup = cursos_sup.query('Modalidade == \"Educação Presencial\"').groupby('CAMPUS')\n",
    "grupos_cursos_tec = cursos_tec.query('NO_MODALIDADE == \"EDUCAÇÃO PRESENCIAL\"').groupby('CAMPUS')\n",
    "\n",
    "# Criando subdatasets para cada campus \n",
    "subdf_consumo = {campus: dados for campus, dados in grupos_consumo}\n",
    "subdf_feriados = {campus: dados for campus, dados in grupos_feriados}\n",
    "subdf_cursos_sup = {campus: dados for campus, dados in grupos_cursos_sup}\n",
    "subdf_cursos_tec = {campus: dados for campus, dados in grupos_cursos_tec}\n",
    "\n"
   ],
   "id": "17009c1c04179966",
   "outputs": [],
   "execution_count": 96
  },
  {
   "metadata": {},
   "cell_type": "markdown",
   "source": "# Transformar Dados de Consumo Mensais em Diários",
   "id": "89f0e6dc45361d31"
  },
  {
   "metadata": {
    "ExecuteTime": {
     "end_time": "2025-01-16T21:01:54.408864Z",
     "start_time": "2025-01-16T21:01:52.336033Z"
    }
   },
   "cell_type": "code",
   "source": [
    "dataframes = []\n",
    "dataframes_ignorados = []\n",
    "for campus, df_consumo in subdf_consumo.items():\n",
    "    dt_min = subdf_consumo[campus][\"DATA INICIO\"].min()\n",
    "    dt_max = subdf_consumo[campus][\"DATA FIM\"].max()\n",
    "\n",
    "    if dt_min.day != 1:\n",
    "        next_month = (dt_min.replace(day=28) + pd.DateOffset(days=4)).replace(day=1)\n",
    "        dt_min = next_month\n",
    "\n",
    "    if dt_max != (dt_max + pd.offsets.MonthEnd(0)):\n",
    "        dt_max = dt_max + pd.offsets.MonthEnd(-1)\n",
    "\n",
    "    datas = pd.date_range(start=dt_min, end=dt_max)\n",
    "    df = pd.DataFrame({'DATA': datas})\n",
    "    df[\"CAMPUS\"] = campus\n",
    "\n",
    "    for index, row in df_consumo.iterrows():\n",
    "        dt_inicio = row['DATA INICIO']\n",
    "        dt_fim = row['DATA FIM']\n",
    "        nr_dias = (dt_fim - dt_inicio).days + 1\n",
    "\n",
    "        mascara = (df['DATA'] >= pd.to_datetime(dt_inicio)) & (df['DATA'] <= pd.to_datetime(dt_fim))\n",
    "        df.loc[mascara, \"CONSUMO\"] = row[\"CONSUMO\"] / nr_dias\n",
    "\n",
    "    if \"PARANAGUÁ\" in campus:\n",
    "        dataframes_ignorados.append(df)\n",
    "    else:\n",
    "        dataframes.append(df)\n",
    "\n",
    "df_merged = pd.merge(dataframes_ignorados[0], dataframes_ignorados[1], on='DATA', how='inner',\n",
    "                     suffixes=('_df1', '_df2'))\n",
    "df_merged[\"CONSUMO\"] = df_merged[\"CONSUMO_df1\"].fillna(0) + df_merged[\"CONSUMO_df2\"].fillna(0)\n",
    "df_merged[\"CAMPUS\"] = \"PARANAGUÁ\"\n",
    "df_merged = df_merged.drop([\"CONSUMO_df1\", \"CONSUMO_df2\", \"CAMPUS_df1\", \"CAMPUS_df2\"], axis=1)\n",
    "dataframes.append(df_merged)\n",
    "\n",
    "df_consumo_normalizado = pd.concat(dataframes, ignore_index=True)\n",
    "\n",
    "df_consumo_normalizado.to_csv(\"./dados/dados_consumo_normalizados.csv\", sep=\";\", decimal=\".\", index=False)\n",
    "\n",
    "grupos_consumo_normalizado = df_consumo_normalizado.groupby('CAMPUS')\n",
    "subdf_consumo_normalizado = {campus: dados for campus, dados in grupos_consumo_normalizado}\n"
   ],
   "id": "6f8cf2d9ae48012e",
   "outputs": [],
   "execution_count": 97
  },
  {
   "metadata": {},
   "cell_type": "markdown",
   "source": "# Ajustar Dados Climáticos",
   "id": "54fb0dbd119c50b5"
  },
  {
   "metadata": {
    "ExecuteTime": {
     "end_time": "2025-01-16T21:01:55.255725Z",
     "start_time": "2025-01-16T21:01:54.486326Z"
    }
   },
   "cell_type": "code",
   "source": [
    "df_clima = pd.read_csv(\"./dados/clima.csv\", sep=\";\", header=0, decimal=\".\")\n",
    "df_clima_londrina = df_clima.query('CAMPUS == \"LONDRINA\"')\n",
    "\n",
    "df_clima_londrina.loc[df_clima_londrina['CAMPUS'] == \"LONDRINA\", 'CAMPUS'] = \"LONDRINA - NORTE\"\n",
    "df_clima.loc[df_clima['CAMPUS'] == \"LONDRINA\", 'CAMPUS'] = \"LONDRINA - CENTRO\"\n",
    "\n",
    "df_clima = pd.concat([df_clima, df_clima_londrina], ignore_index=True)\n",
    "\n",
    "df_clima[\"DATA\"] = pd.to_datetime(df_clima[\"DATA\"], format=\"%d/%m/%Y\")\n",
    "df_clima.to_csv(\"./dados/dados_climaticos.csv\", sep=\";\", decimal=\".\", index=False)"
   ],
   "id": "d9601a54bc6682ac",
   "outputs": [],
   "execution_count": 98
  },
  {
   "metadata": {},
   "cell_type": "markdown",
   "source": "# Criar Datasets conforme Calendários Acadêmicos",
   "id": "82c927b3472b68c1"
  },
  {
   "metadata": {
    "ExecuteTime": {
     "end_time": "2025-01-16T21:02:58.175694Z",
     "start_time": "2025-01-16T21:01:55.324884Z"
    }
   },
   "cell_type": "code",
   "source": [
    "\n",
    "for campus, df_feriados in subdf_consumo_normalizado.items():\n",
    "    dt_min = pd.to_datetime(subdf_consumo_normalizado[campus][\"DATA\"]).min()\n",
    "    dt_max = pd.to_datetime(subdf_consumo_normalizado[campus][\"DATA\"]).max()\n",
    "\n",
    "    dt_inicio = datetime.date(year=2010, month=1, day=1)\n",
    "    dt_fim = datetime.date.today()\n",
    "\n",
    "    datas = pd.date_range(start=dt_inicio, end=dt_fim)\n",
    "    df = pd.DataFrame({'DATA': datas})\n",
    "    df[\"CAMPUS\"] = campus\n",
    "\n",
    "    for index, row in df.iterrows():\n",
    "        data = row['DATA'].date()\n",
    "        dia = data.day\n",
    "        mes = data.month\n",
    "        ano = data.year\n",
    "\n",
    "        rows_data_fixa = feriados.loc[feriados[\"DATA INICIO\"] == f\"{dia}/{mes}\"]\n",
    "        rows_data_flexivel = feriados.loc[feriados[\"DATA INICIO\"] == f\"{dia:02}/{mes:02}/{ano:04}\"]\n",
    "\n",
    "        if not rows_data_fixa.empty:\n",
    "            for _, row_data_fixa in rows_data_fixa.iterrows():\n",
    "                if campus in row_data_fixa[\"CAMPUS\"] or row_data_fixa[\"CAMPUS\"] == \"*\":\n",
    "                    [dia_final_fixo, mes_final_fixo] = str(row_data_fixa[\"DATA FIM\"]).split(\"/\")\n",
    "                    data_final_fixa = datetime.date(ano, int(mes_final_fixo), int(dia_final_fixo))\n",
    "                    mascara = (df['DATA'] >= pd.to_datetime(data)) & (df['DATA'] <= pd.to_datetime(data_final_fixa))\n",
    "                    df.loc[mascara, row_data_fixa[\"MOTIVO\"]] = 1\n",
    "\n",
    "        if not rows_data_flexivel.empty:\n",
    "            for _, row_data_flexivel in rows_data_flexivel.iterrows():\n",
    "                if campus in row_data_flexivel[\"CAMPUS\"] or row_data_flexivel[\"CAMPUS\"] == \"*\":\n",
    "                    [dia_final_flexivel, mes_final_flexivel, ano_final_flexivel] = str(\n",
    "                        row_data_flexivel[\"DATA FIM\"]).split(\"/\")\n",
    "                    data_final_flexivel = datetime.date(int(ano_final_flexivel), int(mes_final_flexivel),\n",
    "                                                        int(dia_final_flexivel))\n",
    "                    mascara = (df['DATA'] >= pd.to_datetime(data)) & (df['DATA'] <= pd.to_datetime(data_final_flexivel))\n",
    "                    df.loc[mascara, row_data_flexivel[\"MOTIVO\"]] = 1\n",
    "\n",
    "    df = df.fillna(0)\n",
    "    df = df.loc[(df['DATA'] >= dt_min) & (df['DATA'] <= dt_max)]\n",
    "    df.to_csv(f\"./dados/calendarios/{campus}.csv\", index=False, sep=\";\", decimal=\".\")\n"
   ],
   "id": "1852980aa8390ff0",
   "outputs": [],
   "execution_count": 99
  },
  {
   "metadata": {},
   "cell_type": "markdown",
   "source": "# Criar Dataset de Dados Temporais",
   "id": "390c839a01e859c7"
  },
  {
   "metadata": {
    "ExecuteTime": {
     "end_time": "2025-01-16T21:03:00.833571Z",
     "start_time": "2025-01-16T21:02:58.255092Z"
    }
   },
   "cell_type": "code",
   "source": [
    "pasta = './dados/calendarios/'\n",
    "\n",
    "# Obter uma lista de todos os arquivos .csv na pasta\n",
    "arquivos_csv = glob.glob(os.path.join(pasta, \"*.csv\"))\n",
    "# Criar uma lista para armazenar os DataFrames\n",
    "dataframes = []\n",
    "\n",
    "# Iterar sobre a lista de arquivos .csv e ler cada um em um DataFrame\n",
    "for arquivo in arquivos_csv:\n",
    "    df = pd.read_csv(arquivo, sep=\";\", header=0)\n",
    "    df['CAMPUS'] = os.path.basename(arquivo.replace(\".csv\", \"\"))\n",
    "    df['DATA'] = pd.to_datetime(df['DATA'])\n",
    "    df['DIA_DA_SEMANA'] = df['DATA'].dt.strftime('%a')\n",
    "    df['MÊS'] = df['DATA'].dt.strftime('%b')\n",
    "    df['ANO'] = df['DATA'].dt.strftime('%Y')\n",
    "    df = pd.get_dummies(df, columns=['DIA_DA_SEMANA', \"MÊS\", \"ANO\"])\n",
    "    df = df.fillna(False)\n",
    "    df[df.drop([\"CAMPUS\", \"DATA\"], axis=1).columns] = df[df.drop([\"CAMPUS\", \"DATA\"], axis=1).columns].astype(int)\n",
    "    dataframes.append(df)\n",
    "\n",
    "# Concatenar todos os DataFrames em um único DataFrame\n",
    "df_completo = pd.concat(dataframes, ignore_index=True)\n",
    "df_completo = df_completo.fillna(0)\n",
    "\n",
    "df_completo.to_csv(\"./dados/dados_temporais.csv\", sep=\";\", decimal=\".\", index=False)\n"
   ],
   "id": "38f32a01bfda035",
   "outputs": [],
   "execution_count": 100
  },
  {
   "metadata": {},
   "cell_type": "markdown",
   "source": "# Criar Datasets conforme Cursos Superiores (E-MEC)",
   "id": "9f059a4200f52692"
  },
  {
   "metadata": {
    "ExecuteTime": {
     "end_time": "2025-01-16T21:03:01.581535Z",
     "start_time": "2025-01-16T21:03:00.921584Z"
    }
   },
   "cell_type": "code",
   "source": [
    "dataframes = []\n",
    "for campus, df_cursos_sup in subdf_cursos_sup.items():\n",
    "    dt_min = pd.to_datetime(subdf_consumo_normalizado[campus][\"DATA\"]).min()\n",
    "    dt_max = pd.to_datetime(subdf_consumo_normalizado[campus][\"DATA\"]).max()\n",
    "\n",
    "    datas = pd.date_range(start=pd.to_datetime(df_cursos_sup[\"Início Funcionamento\"], format='%d/%m/%Y').min(),\n",
    "                          end=datetime.date.today())\n",
    "    df = pd.DataFrame({'DATA': datas})\n",
    "    df[\"CAMPUS\"] = campus\n",
    "    df[\"CURSOS_GRAD_MATUTINO\"] = 0\n",
    "    df[\"CURSOS_GRAD_VESPERTINO\"] = 0\n",
    "    df[\"CURSOS_GRAD_NOTURNO\"] = 0\n",
    "    df[\"CURSOS_POS\"] = 0\n",
    "\n",
    "    for index, row in df_cursos_sup.iterrows():\n",
    "        dt_inicio = pd.to_datetime(row[\"Início Funcionamento\"], format='%d/%m/%Y')\n",
    "        if row[\"Fim Funcionamento\"] is not None and not pd.isnull(row[\"Fim Funcionamento\"]):\n",
    "            dt_fim = pd.to_datetime(row[\"Fim Funcionamento\"], format='%d/%m/%Y')\n",
    "        else:\n",
    "            dt_fim = pd.to_datetime(datetime.date.today())\n",
    "\n",
    "        if row[\"Grau\"] in [\"Bacharelado\", \"Tecnológico\", \"Licenciatura\"]:\n",
    "            if row[\"Quantitativo de Vagas - Integral\"] > 0:\n",
    "                df.loc[(df['DATA'] >= pd.to_datetime(dt_inicio)) &\n",
    "                       (df['DATA'] <= pd.to_datetime(dt_fim)), \"CURSOS_GRAD_MATUTINO\"] += 1\n",
    "                df.loc[(df['DATA'] >= pd.to_datetime(dt_inicio)) &\n",
    "                       (df['DATA'] <= pd.to_datetime(dt_fim)), \"CURSOS_GRAD_VESPERTINO\"] += 1\n",
    "            else:\n",
    "                if row[\"Quantitativo de Vagas - Matutino\"] > 0:\n",
    "                    df.loc[(df['DATA'] >= pd.to_datetime(dt_inicio)) &\n",
    "                           (df['DATA'] <= pd.to_datetime(dt_fim)), \"CURSOS_GRAD_MATUTINO\"] += 1\n",
    "\n",
    "                if row[\"Quantitativo de Vagas - Vespertino\"] > 0:\n",
    "                    df.loc[(df['DATA'] >= pd.to_datetime(dt_inicio)) &\n",
    "                           (df['DATA'] <= pd.to_datetime(dt_fim)), \"CURSOS_GRAD_VESPERTINO\"] += 1\n",
    "\n",
    "            if row[\"Quantitativo de Vagas - Noturno\"] > 0:\n",
    "                df.loc[(df['DATA'] >= pd.to_datetime(dt_inicio)) &\n",
    "                       (df['DATA'] <= pd.to_datetime(dt_fim)), \"CURSOS_GRAD_NOTURNO\"] += 1\n",
    "\n",
    "        elif row[\"Grau\"] in [\"Especialização\", \"Mestrado\"]:\n",
    "            df.loc[(df['DATA'] >= pd.to_datetime(dt_inicio)) &\n",
    "                   (df['DATA'] <= pd.to_datetime(dt_fim)), \"CURSOS_POS\"] += 1\n",
    "\n",
    "    df = df.fillna(0)\n",
    "    df = df.loc[(df['DATA'] >= dt_min) & (df['DATA'] <= dt_max)]\n",
    "    df.to_csv(f\"./dados/cursos_superiores/{campus}.csv\", index=False, sep=\";\", decimal=\".\")\n",
    "    dataframes.append(df)\n",
    "\n",
    "# Concatenar todos os DataFrames em um único DataFrame\n",
    "df_completo = pd.concat(dataframes, ignore_index=True)\n",
    "df_completo = df_completo.fillna(0)\n",
    "\n",
    "df_completo.to_csv(\"./dados/dados_cursos_superiores.csv\", sep=\";\", decimal=\".\",index=False)\n"
   ],
   "id": "fd5b0245a9347095",
   "outputs": [],
   "execution_count": 101
  },
  {
   "metadata": {},
   "cell_type": "markdown",
   "source": "# Criar Datasets conforme Cursos Técnicos (SISTEC)",
   "id": "b185eaa3bced20dd"
  },
  {
   "metadata": {
    "ExecuteTime": {
     "end_time": "2025-01-16T21:03:02.400080Z",
     "start_time": "2025-01-16T21:03:01.650929Z"
    }
   },
   "cell_type": "code",
   "source": [
    "dataframes = []\n",
    "for campus, df_cursos_tec in subdf_cursos_tec.items():\n",
    "    dt_min = pd.to_datetime(subdf_consumo_normalizado[campus][\"DATA\"]).min()\n",
    "dt_max = pd.to_datetime(subdf_consumo_normalizado[campus][\"DATA\"]).max()\n",
    "\n",
    "datas = pd.date_range(start=pd.to_datetime(df_cursos_tec[\"DATA INICIO\"], format='%d/%m/%Y').min(),\n",
    "                      end=datetime.date.today())\n",
    "df = pd.DataFrame({'DATA': datas})\n",
    "df[\"CAMPUS\"] = campus\n",
    "df[\"CURSOS_TEC_CONCOMITANTE\"] = 0\n",
    "df[\"CURSOS_TEC_INTEGRADO\"] = 0\n",
    "df[\"CURSOS_TEC_SUBSEQUENTE\"] = 0\n",
    "\n",
    "for index, row in df_cursos_tec.iterrows():\n",
    "    dt_inicio = pd.to_datetime(row[\"DATA INICIO\"], format='%d/%m/%Y')\n",
    "dt_fim = pd.to_datetime(row[\"DATA FIM\"], format='%d/%m/%Y')\n",
    "\n",
    "if row[\"NO_TIPO_OFERTA\"] == \"CONCOMITANTE\":\n",
    "    df.loc[(df['DATA'] >= pd.to_datetime(dt_inicio)) & (\n",
    "            df['DATA'] <= pd.to_datetime(dt_fim)), \"CURSOS_TEC_CONCOMITANTE\"] += 1\n",
    "elif row[\"NO_TIPO_OFERTA\"] == \"INTEGRADO\":\n",
    "    df.loc[(df['DATA'] >= pd.to_datetime(dt_inicio)) & (\n",
    "            df['DATA'] <= pd.to_datetime(dt_fim)), \"CURSOS_TEC_INTEGRADO\"] += 1\n",
    "elif row[\"NO_TIPO_OFERTA\"] == \"SUBSEQUENTE\":\n",
    "    df.loc[(df['DATA'] >= pd.to_datetime(dt_inicio)) & (\n",
    "            df['DATA'] <= pd.to_datetime(dt_fim)), \"CURSOS_TEC_SUBSEQUENTE\"] += 1\n",
    "\n",
    "df = df.fillna(0)\n",
    "df = df.loc[(df['DATA'] >= dt_min) & (df['DATA'] <= dt_max)]\n",
    "df.to_csv(f\"./dados/cursos_tecnicos/{campus}.csv\", index=False, sep=\";\", decimal=\".\")\n",
    "dataframes.append(df)\n",
    "\n",
    "# Concatenar todos os DataFrames em um único DataFrame\n",
    "df_completo = pd.concat(dataframes, ignore_index=True)\n",
    "df_completo = df_completo.fillna(0)\n",
    "\n",
    "df_completo.to_csv(\"./dados/dados_cursos_tecnicos.csv\", sep=\";\", decimal=\".\", index=False)\n"
   ],
   "id": "50656627d8195a81",
   "outputs": [],
   "execution_count": 102
  },
  {
   "metadata": {},
   "cell_type": "markdown",
   "source": "# Mesclar Datasets",
   "id": "3c748f7da1d4b84"
  },
  {
   "metadata": {
    "ExecuteTime": {
     "end_time": "2025-01-16T21:04:05.069980Z",
     "start_time": "2025-01-16T21:04:04.137030Z"
    }
   },
   "cell_type": "code",
   "source": [
    "dados_consumo = pd.read_csv(\"./dados/dados_consumo_normalizados.csv\", header=0, sep=\";\", decimal=\".\")\n",
    "dados_climaticos = pd.read_csv(\"./dados/dados_climaticos.csv\", header=0, sep=\";\", decimal=\".\")\n",
    "dados_temporais = pd.read_csv(\"./dados/dados_temporais.csv\", header=0, sep=\";\", decimal=\".\")\n",
    "dados_cursos_tecnicos = pd.read_csv(\"./dados/dados_cursos_tecnicos.csv\", header=0, sep=\";\", decimal=\".\")\n",
    "dados_cursos_superiores = pd.read_csv(\"./dados/dados_cursos_superiores.csv\", header=0, sep=\";\", decimal=\".\")\n",
    "\n",
    "df_merged = (dados_consumo\n",
    "             .merge(dados_climaticos, on=['DATA', \"CAMPUS\"], how='left')\n",
    "             .merge(dados_temporais, on=['DATA', \"CAMPUS\"], how='left')\n",
    "             .merge(dados_cursos_tecnicos, on=['DATA', \"CAMPUS\"], how='left')\n",
    "             .merge(dados_cursos_superiores, on=['DATA', \"CAMPUS\"], how='left'))\n",
    "\n",
    "df_merged[dados_cursos_superiores.columns] = df_merged[dados_cursos_superiores.columns].fillna(0)\n",
    "df_merged[dados_cursos_tecnicos.columns] = df_merged[dados_cursos_tecnicos.columns].fillna(0)\n",
    "\n",
    "df_merged['MES'] = pd.to_datetime(df_merged['DATA']).dt.month\n",
    "\n",
    "df_merged = df_merged.groupby(['CAMPUS', \"MES\"]).agg({\n",
    "    'CONSUMO': 'sum',\n",
    "    'TEMP_MIN_MED_MENS': (\"TEMP_MIN\", 'mean'),\n",
    "    'TEMP_MIN_MIN_MENS': (\"TEMP_MIN\", 'min'),\n",
    "    'TEMP_MIN_MAX_MENS': (\"TEMP_MIN\", 'max'),\n",
    "    'TEMP_MIN_ACC_MENS': (\"TEMP_MIN\", 'sum'),\n",
    "    'TEMP_MÉD_MED_MENS': (\"TEMP_MÉD\", 'mean'),\n",
    "    'TEMP_MÉD_MIN_MENS': (\"TEMP_MÉD\", 'min'),\n",
    "    'TEMP_MÉD_MAX_MENS': (\"TEMP_MÉD\", 'max'),\n",
    "    'TEMP_MÉD_ACC_MENS': (\"TEMP_MÉD\", 'sum'),\n",
    "    'TEMP_MAX_MED_MENS': (\"TEMP_MAX\", 'mean'),\n",
    "    'TEMP_MAX_MIN_MENS': (\"TEMP_MAX\", 'min'),\n",
    "    'TEMP_MAX_MAX_MENS': (\"TEMP_MAX\", 'max'),\n",
    "    'TEMP_MAX_ACC_MENS': (\"TEMP_MAX\", 'sum'),\n",
    "    'PRECIPITAÇÃO_MED_MENS': (\"PRECIPITAÇÃO\", 'mean'),\n",
    "    'PRECIPITAÇÃO_MIN_MENS': (\"PRECIPITAÇÃO\", 'min'),\n",
    "    'PRECIPITAÇÃO_MAX_MENS': (\"PRECIPITAÇÃO\", 'max'),\n",
    "    'PRECIPITAÇÃO_ACC_MENS': (\"PRECIPITAÇÃO\", 'sum'),\n",
    "    'FÉRIAS': 'sum',\n",
    "    'FERIADO': 'sum',\n",
    "    'COVID': 'sum',\n",
    "    'GREVE': 'sum',\n",
    "    'DIA_DA_SEMANA_dom': 'sum',\n",
    "    'DIA_DA_SEMANA_seg': 'sum',\n",
    "    'DIA_DA_SEMANA_ter': 'sum',\n",
    "    'DIA_DA_SEMANA_qua': 'sum',\n",
    "    'DIA_DA_SEMANA_qui': 'sum',\n",
    "    'DIA_DA_SEMANA_sex': 'sum',\n",
    "    'DIA_DA_SEMANA_sÃ¡b': 'sum',\n",
    "    'MÊS_jan': 'mean',\n",
    "    'MÊS_fev': 'mean',\n",
    "    'MÊS_mar': 'mean',\n",
    "    'MÊS_abr': 'mean',\n",
    "    'MÊS_mai': 'mean',\n",
    "    'MÊS_jun': 'mean',\n",
    "    'MÊS_jul': 'mean',\n",
    "    'MÊS_ago': 'mean',\n",
    "    'MÊS_set': 'mean',\n",
    "    'MÊS_out': 'mean',\n",
    "    'MÊS_nov': 'mean',\n",
    "    'MÊS_dez': 'mean',\n",
    "    'AN0_2014': 'mean',\n",
    "    'AN0_2015': 'mean',\n",
    "    'AN0_2016': 'mean',\n",
    "    'AN0_2017': 'mean',\n",
    "    'AN0_2018': 'mean',\n",
    "    'AN0_2019': 'mean',\n",
    "    'AN0_2020': 'mean',\n",
    "    'AN0_2021': 'mean',\n",
    "    'AN0_2022': 'mean',\n",
    "    'AN0_2023': 'mean',\n",
    "    'AN0_2024': 'mean',\n",
    "    'CURSOS_TEC_CONCOMITANTE': 'mean',\n",
    "    'CURSOS_TEC_INTEGRADO': 'mean',\n",
    "    'CURSOS_TEC_SUBSEQUENTE': 'mean',\n",
    "    'CURSOS_GRAD_MATUTINO': 'mean',\n",
    "    'CURSOS_GRAD_VESPERTINO': 'mean',\n",
    "    'CURSOS_GRAD_NOTURNO': 'mean',\n",
    "    'CURSOS_POS': 'mean'\n",
    "})\n",
    "\n",
    "df_merged.drop(\"MES\", axis=1).to_csv(\"./dados/dados_mesclados.csv\", sep=\";\", decimal=\".\", index=False)\n",
    "\n",
    "df_merged"
   ],
   "id": "f890b71544644357",
   "outputs": [
    {
     "ename": "KeyError",
     "evalue": "\"Column(s) ['AN0_2014', 'AN0_2015', 'AN0_2016', 'AN0_2017', 'AN0_2018', 'AN0_2019', 'AN0_2020', 'AN0_2021', 'AN0_2022', 'AN0_2023', 'AN0_2024', 'PRECIPITAÇÃO_ACC_MENS', 'PRECIPITAÇÃO_MAX_MENS', 'PRECIPITAÇÃO_MED_MENS', 'PRECIPITAÇÃO_MIN_MENS', 'TEMP_MAX_ACC_MENS', 'TEMP_MAX_MAX_MENS', 'TEMP_MAX_MED_MENS', 'TEMP_MAX_MIN_MENS', 'TEMP_MIN_ACC_MENS', 'TEMP_MIN_MAX_MENS', 'TEMP_MIN_MED_MENS', 'TEMP_MIN_MIN_MENS', 'TEMP_MÉD_ACC_MENS', 'TEMP_MÉD_MAX_MENS', 'TEMP_MÉD_MED_MENS', 'TEMP_MÉD_MIN_MENS'] do not exist\"",
     "output_type": "error",
     "traceback": [
      "\u001B[1;31m---------------------------------------------------------------------------\u001B[0m",
      "\u001B[1;31mKeyError\u001B[0m                                  Traceback (most recent call last)",
      "Cell \u001B[1;32mIn[104], line 18\u001B[0m\n\u001B[0;32m     14\u001B[0m df_merged[dados_cursos_tecnicos\u001B[38;5;241m.\u001B[39mcolumns] \u001B[38;5;241m=\u001B[39m df_merged[dados_cursos_tecnicos\u001B[38;5;241m.\u001B[39mcolumns]\u001B[38;5;241m.\u001B[39mfillna(\u001B[38;5;241m0\u001B[39m)\n\u001B[0;32m     16\u001B[0m df_merged[\u001B[38;5;124m'\u001B[39m\u001B[38;5;124mMES\u001B[39m\u001B[38;5;124m'\u001B[39m] \u001B[38;5;241m=\u001B[39m pd\u001B[38;5;241m.\u001B[39mto_datetime(df_merged[\u001B[38;5;124m'\u001B[39m\u001B[38;5;124mDATA\u001B[39m\u001B[38;5;124m'\u001B[39m])\u001B[38;5;241m.\u001B[39mdt\u001B[38;5;241m.\u001B[39mmonth\n\u001B[1;32m---> 18\u001B[0m df_merged \u001B[38;5;241m=\u001B[39m df_merged\u001B[38;5;241m.\u001B[39mgroupby([\u001B[38;5;124m'\u001B[39m\u001B[38;5;124mCAMPUS\u001B[39m\u001B[38;5;124m'\u001B[39m, \u001B[38;5;124m\"\u001B[39m\u001B[38;5;124mMES\u001B[39m\u001B[38;5;124m\"\u001B[39m])\u001B[38;5;241m.\u001B[39magg({\n\u001B[0;32m     19\u001B[0m     \u001B[38;5;124m'\u001B[39m\u001B[38;5;124mCONSUMO\u001B[39m\u001B[38;5;124m'\u001B[39m: \u001B[38;5;124m'\u001B[39m\u001B[38;5;124msum\u001B[39m\u001B[38;5;124m'\u001B[39m,\n\u001B[0;32m     20\u001B[0m     \u001B[38;5;124m'\u001B[39m\u001B[38;5;124mTEMP_MIN_MED_MENS\u001B[39m\u001B[38;5;124m'\u001B[39m: (\u001B[38;5;124m\"\u001B[39m\u001B[38;5;124mTEMP_MIN\u001B[39m\u001B[38;5;124m\"\u001B[39m, \u001B[38;5;124m'\u001B[39m\u001B[38;5;124mmean\u001B[39m\u001B[38;5;124m'\u001B[39m),\n\u001B[0;32m     21\u001B[0m     \u001B[38;5;124m'\u001B[39m\u001B[38;5;124mTEMP_MIN_MIN_MENS\u001B[39m\u001B[38;5;124m'\u001B[39m: (\u001B[38;5;124m\"\u001B[39m\u001B[38;5;124mTEMP_MIN\u001B[39m\u001B[38;5;124m\"\u001B[39m, \u001B[38;5;124m'\u001B[39m\u001B[38;5;124mmin\u001B[39m\u001B[38;5;124m'\u001B[39m),\n\u001B[0;32m     22\u001B[0m     \u001B[38;5;124m'\u001B[39m\u001B[38;5;124mTEMP_MIN_MAX_MENS\u001B[39m\u001B[38;5;124m'\u001B[39m: (\u001B[38;5;124m\"\u001B[39m\u001B[38;5;124mTEMP_MIN\u001B[39m\u001B[38;5;124m\"\u001B[39m, \u001B[38;5;124m'\u001B[39m\u001B[38;5;124mmax\u001B[39m\u001B[38;5;124m'\u001B[39m),\n\u001B[0;32m     23\u001B[0m     \u001B[38;5;124m'\u001B[39m\u001B[38;5;124mTEMP_MIN_ACC_MENS\u001B[39m\u001B[38;5;124m'\u001B[39m: (\u001B[38;5;124m\"\u001B[39m\u001B[38;5;124mTEMP_MIN\u001B[39m\u001B[38;5;124m\"\u001B[39m, \u001B[38;5;124m'\u001B[39m\u001B[38;5;124msum\u001B[39m\u001B[38;5;124m'\u001B[39m),\n\u001B[0;32m     24\u001B[0m     \u001B[38;5;124m'\u001B[39m\u001B[38;5;124mTEMP_MÉD_MED_MENS\u001B[39m\u001B[38;5;124m'\u001B[39m: (\u001B[38;5;124m\"\u001B[39m\u001B[38;5;124mTEMP_MÉD\u001B[39m\u001B[38;5;124m\"\u001B[39m, \u001B[38;5;124m'\u001B[39m\u001B[38;5;124mmean\u001B[39m\u001B[38;5;124m'\u001B[39m),\n\u001B[0;32m     25\u001B[0m     \u001B[38;5;124m'\u001B[39m\u001B[38;5;124mTEMP_MÉD_MIN_MENS\u001B[39m\u001B[38;5;124m'\u001B[39m: (\u001B[38;5;124m\"\u001B[39m\u001B[38;5;124mTEMP_MÉD\u001B[39m\u001B[38;5;124m\"\u001B[39m, \u001B[38;5;124m'\u001B[39m\u001B[38;5;124mmin\u001B[39m\u001B[38;5;124m'\u001B[39m),\n\u001B[0;32m     26\u001B[0m     \u001B[38;5;124m'\u001B[39m\u001B[38;5;124mTEMP_MÉD_MAX_MENS\u001B[39m\u001B[38;5;124m'\u001B[39m: (\u001B[38;5;124m\"\u001B[39m\u001B[38;5;124mTEMP_MÉD\u001B[39m\u001B[38;5;124m\"\u001B[39m, \u001B[38;5;124m'\u001B[39m\u001B[38;5;124mmax\u001B[39m\u001B[38;5;124m'\u001B[39m),\n\u001B[0;32m     27\u001B[0m     \u001B[38;5;124m'\u001B[39m\u001B[38;5;124mTEMP_MÉD_ACC_MENS\u001B[39m\u001B[38;5;124m'\u001B[39m: (\u001B[38;5;124m\"\u001B[39m\u001B[38;5;124mTEMP_MÉD\u001B[39m\u001B[38;5;124m\"\u001B[39m, \u001B[38;5;124m'\u001B[39m\u001B[38;5;124msum\u001B[39m\u001B[38;5;124m'\u001B[39m),\n\u001B[0;32m     28\u001B[0m     \u001B[38;5;124m'\u001B[39m\u001B[38;5;124mTEMP_MAX_MED_MENS\u001B[39m\u001B[38;5;124m'\u001B[39m: (\u001B[38;5;124m\"\u001B[39m\u001B[38;5;124mTEMP_MAX\u001B[39m\u001B[38;5;124m\"\u001B[39m, \u001B[38;5;124m'\u001B[39m\u001B[38;5;124mmean\u001B[39m\u001B[38;5;124m'\u001B[39m),\n\u001B[0;32m     29\u001B[0m     \u001B[38;5;124m'\u001B[39m\u001B[38;5;124mTEMP_MAX_MIN_MENS\u001B[39m\u001B[38;5;124m'\u001B[39m: (\u001B[38;5;124m\"\u001B[39m\u001B[38;5;124mTEMP_MAX\u001B[39m\u001B[38;5;124m\"\u001B[39m, \u001B[38;5;124m'\u001B[39m\u001B[38;5;124mmin\u001B[39m\u001B[38;5;124m'\u001B[39m),\n\u001B[0;32m     30\u001B[0m     \u001B[38;5;124m'\u001B[39m\u001B[38;5;124mTEMP_MAX_MAX_MENS\u001B[39m\u001B[38;5;124m'\u001B[39m: (\u001B[38;5;124m\"\u001B[39m\u001B[38;5;124mTEMP_MAX\u001B[39m\u001B[38;5;124m\"\u001B[39m, \u001B[38;5;124m'\u001B[39m\u001B[38;5;124mmax\u001B[39m\u001B[38;5;124m'\u001B[39m),\n\u001B[0;32m     31\u001B[0m     \u001B[38;5;124m'\u001B[39m\u001B[38;5;124mTEMP_MAX_ACC_MENS\u001B[39m\u001B[38;5;124m'\u001B[39m: (\u001B[38;5;124m\"\u001B[39m\u001B[38;5;124mTEMP_MAX\u001B[39m\u001B[38;5;124m\"\u001B[39m, \u001B[38;5;124m'\u001B[39m\u001B[38;5;124msum\u001B[39m\u001B[38;5;124m'\u001B[39m),\n\u001B[0;32m     32\u001B[0m     \u001B[38;5;124m'\u001B[39m\u001B[38;5;124mPRECIPITAÇÃO_MED_MENS\u001B[39m\u001B[38;5;124m'\u001B[39m: (\u001B[38;5;124m\"\u001B[39m\u001B[38;5;124mPRECIPITAÇÃO\u001B[39m\u001B[38;5;124m\"\u001B[39m, \u001B[38;5;124m'\u001B[39m\u001B[38;5;124mmean\u001B[39m\u001B[38;5;124m'\u001B[39m),\n\u001B[0;32m     33\u001B[0m     \u001B[38;5;124m'\u001B[39m\u001B[38;5;124mPRECIPITAÇÃO_MIN_MENS\u001B[39m\u001B[38;5;124m'\u001B[39m: (\u001B[38;5;124m\"\u001B[39m\u001B[38;5;124mPRECIPITAÇÃO\u001B[39m\u001B[38;5;124m\"\u001B[39m, \u001B[38;5;124m'\u001B[39m\u001B[38;5;124mmin\u001B[39m\u001B[38;5;124m'\u001B[39m),\n\u001B[0;32m     34\u001B[0m     \u001B[38;5;124m'\u001B[39m\u001B[38;5;124mPRECIPITAÇÃO_MAX_MENS\u001B[39m\u001B[38;5;124m'\u001B[39m: (\u001B[38;5;124m\"\u001B[39m\u001B[38;5;124mPRECIPITAÇÃO\u001B[39m\u001B[38;5;124m\"\u001B[39m, \u001B[38;5;124m'\u001B[39m\u001B[38;5;124mmax\u001B[39m\u001B[38;5;124m'\u001B[39m),\n\u001B[0;32m     35\u001B[0m     \u001B[38;5;124m'\u001B[39m\u001B[38;5;124mPRECIPITAÇÃO_ACC_MENS\u001B[39m\u001B[38;5;124m'\u001B[39m: (\u001B[38;5;124m\"\u001B[39m\u001B[38;5;124mPRECIPITAÇÃO\u001B[39m\u001B[38;5;124m\"\u001B[39m, \u001B[38;5;124m'\u001B[39m\u001B[38;5;124msum\u001B[39m\u001B[38;5;124m'\u001B[39m),\n\u001B[0;32m     36\u001B[0m     \u001B[38;5;124m'\u001B[39m\u001B[38;5;124mFÉRIAS\u001B[39m\u001B[38;5;124m'\u001B[39m: \u001B[38;5;124m'\u001B[39m\u001B[38;5;124msum\u001B[39m\u001B[38;5;124m'\u001B[39m,\n\u001B[0;32m     37\u001B[0m     \u001B[38;5;124m'\u001B[39m\u001B[38;5;124mFERIADO\u001B[39m\u001B[38;5;124m'\u001B[39m: \u001B[38;5;124m'\u001B[39m\u001B[38;5;124msum\u001B[39m\u001B[38;5;124m'\u001B[39m,\n\u001B[0;32m     38\u001B[0m     \u001B[38;5;124m'\u001B[39m\u001B[38;5;124mCOVID\u001B[39m\u001B[38;5;124m'\u001B[39m: \u001B[38;5;124m'\u001B[39m\u001B[38;5;124msum\u001B[39m\u001B[38;5;124m'\u001B[39m,\n\u001B[0;32m     39\u001B[0m     \u001B[38;5;124m'\u001B[39m\u001B[38;5;124mGREVE\u001B[39m\u001B[38;5;124m'\u001B[39m: \u001B[38;5;124m'\u001B[39m\u001B[38;5;124msum\u001B[39m\u001B[38;5;124m'\u001B[39m,\n\u001B[0;32m     40\u001B[0m     \u001B[38;5;124m'\u001B[39m\u001B[38;5;124mDIA_DA_SEMANA_dom\u001B[39m\u001B[38;5;124m'\u001B[39m: \u001B[38;5;124m'\u001B[39m\u001B[38;5;124msum\u001B[39m\u001B[38;5;124m'\u001B[39m,\n\u001B[0;32m     41\u001B[0m     \u001B[38;5;124m'\u001B[39m\u001B[38;5;124mDIA_DA_SEMANA_seg\u001B[39m\u001B[38;5;124m'\u001B[39m: \u001B[38;5;124m'\u001B[39m\u001B[38;5;124msum\u001B[39m\u001B[38;5;124m'\u001B[39m,\n\u001B[0;32m     42\u001B[0m     \u001B[38;5;124m'\u001B[39m\u001B[38;5;124mDIA_DA_SEMANA_ter\u001B[39m\u001B[38;5;124m'\u001B[39m: \u001B[38;5;124m'\u001B[39m\u001B[38;5;124msum\u001B[39m\u001B[38;5;124m'\u001B[39m,\n\u001B[0;32m     43\u001B[0m     \u001B[38;5;124m'\u001B[39m\u001B[38;5;124mDIA_DA_SEMANA_qua\u001B[39m\u001B[38;5;124m'\u001B[39m: \u001B[38;5;124m'\u001B[39m\u001B[38;5;124msum\u001B[39m\u001B[38;5;124m'\u001B[39m,\n\u001B[0;32m     44\u001B[0m     \u001B[38;5;124m'\u001B[39m\u001B[38;5;124mDIA_DA_SEMANA_qui\u001B[39m\u001B[38;5;124m'\u001B[39m: \u001B[38;5;124m'\u001B[39m\u001B[38;5;124msum\u001B[39m\u001B[38;5;124m'\u001B[39m,\n\u001B[0;32m     45\u001B[0m     \u001B[38;5;124m'\u001B[39m\u001B[38;5;124mDIA_DA_SEMANA_sex\u001B[39m\u001B[38;5;124m'\u001B[39m: \u001B[38;5;124m'\u001B[39m\u001B[38;5;124msum\u001B[39m\u001B[38;5;124m'\u001B[39m,\n\u001B[0;32m     46\u001B[0m     \u001B[38;5;124m'\u001B[39m\u001B[38;5;124mDIA_DA_SEMANA_sÃ¡b\u001B[39m\u001B[38;5;124m'\u001B[39m: \u001B[38;5;124m'\u001B[39m\u001B[38;5;124msum\u001B[39m\u001B[38;5;124m'\u001B[39m,\n\u001B[0;32m     47\u001B[0m     \u001B[38;5;124m'\u001B[39m\u001B[38;5;124mMÊS_jan\u001B[39m\u001B[38;5;124m'\u001B[39m: \u001B[38;5;124m'\u001B[39m\u001B[38;5;124mmean\u001B[39m\u001B[38;5;124m'\u001B[39m,\n\u001B[0;32m     48\u001B[0m     \u001B[38;5;124m'\u001B[39m\u001B[38;5;124mMÊS_fev\u001B[39m\u001B[38;5;124m'\u001B[39m: \u001B[38;5;124m'\u001B[39m\u001B[38;5;124mmean\u001B[39m\u001B[38;5;124m'\u001B[39m,\n\u001B[0;32m     49\u001B[0m     \u001B[38;5;124m'\u001B[39m\u001B[38;5;124mMÊS_mar\u001B[39m\u001B[38;5;124m'\u001B[39m: \u001B[38;5;124m'\u001B[39m\u001B[38;5;124mmean\u001B[39m\u001B[38;5;124m'\u001B[39m,\n\u001B[0;32m     50\u001B[0m     \u001B[38;5;124m'\u001B[39m\u001B[38;5;124mMÊS_abr\u001B[39m\u001B[38;5;124m'\u001B[39m: \u001B[38;5;124m'\u001B[39m\u001B[38;5;124mmean\u001B[39m\u001B[38;5;124m'\u001B[39m,\n\u001B[0;32m     51\u001B[0m     \u001B[38;5;124m'\u001B[39m\u001B[38;5;124mMÊS_mai\u001B[39m\u001B[38;5;124m'\u001B[39m: \u001B[38;5;124m'\u001B[39m\u001B[38;5;124mmean\u001B[39m\u001B[38;5;124m'\u001B[39m,\n\u001B[0;32m     52\u001B[0m     \u001B[38;5;124m'\u001B[39m\u001B[38;5;124mMÊS_jun\u001B[39m\u001B[38;5;124m'\u001B[39m: \u001B[38;5;124m'\u001B[39m\u001B[38;5;124mmean\u001B[39m\u001B[38;5;124m'\u001B[39m,\n\u001B[0;32m     53\u001B[0m     \u001B[38;5;124m'\u001B[39m\u001B[38;5;124mMÊS_jul\u001B[39m\u001B[38;5;124m'\u001B[39m: \u001B[38;5;124m'\u001B[39m\u001B[38;5;124mmean\u001B[39m\u001B[38;5;124m'\u001B[39m,\n\u001B[0;32m     54\u001B[0m     \u001B[38;5;124m'\u001B[39m\u001B[38;5;124mMÊS_ago\u001B[39m\u001B[38;5;124m'\u001B[39m: \u001B[38;5;124m'\u001B[39m\u001B[38;5;124mmean\u001B[39m\u001B[38;5;124m'\u001B[39m,\n\u001B[0;32m     55\u001B[0m     \u001B[38;5;124m'\u001B[39m\u001B[38;5;124mMÊS_set\u001B[39m\u001B[38;5;124m'\u001B[39m: \u001B[38;5;124m'\u001B[39m\u001B[38;5;124mmean\u001B[39m\u001B[38;5;124m'\u001B[39m,\n\u001B[0;32m     56\u001B[0m     \u001B[38;5;124m'\u001B[39m\u001B[38;5;124mMÊS_out\u001B[39m\u001B[38;5;124m'\u001B[39m: \u001B[38;5;124m'\u001B[39m\u001B[38;5;124mmean\u001B[39m\u001B[38;5;124m'\u001B[39m,\n\u001B[0;32m     57\u001B[0m     \u001B[38;5;124m'\u001B[39m\u001B[38;5;124mMÊS_nov\u001B[39m\u001B[38;5;124m'\u001B[39m: \u001B[38;5;124m'\u001B[39m\u001B[38;5;124mmean\u001B[39m\u001B[38;5;124m'\u001B[39m,\n\u001B[0;32m     58\u001B[0m     \u001B[38;5;124m'\u001B[39m\u001B[38;5;124mMÊS_dez\u001B[39m\u001B[38;5;124m'\u001B[39m: \u001B[38;5;124m'\u001B[39m\u001B[38;5;124mmean\u001B[39m\u001B[38;5;124m'\u001B[39m,\n\u001B[0;32m     59\u001B[0m     \u001B[38;5;124m'\u001B[39m\u001B[38;5;124mAN0_2014\u001B[39m\u001B[38;5;124m'\u001B[39m: \u001B[38;5;124m'\u001B[39m\u001B[38;5;124mmean\u001B[39m\u001B[38;5;124m'\u001B[39m,\n\u001B[0;32m     60\u001B[0m     \u001B[38;5;124m'\u001B[39m\u001B[38;5;124mAN0_2015\u001B[39m\u001B[38;5;124m'\u001B[39m: \u001B[38;5;124m'\u001B[39m\u001B[38;5;124mmean\u001B[39m\u001B[38;5;124m'\u001B[39m,\n\u001B[0;32m     61\u001B[0m     \u001B[38;5;124m'\u001B[39m\u001B[38;5;124mAN0_2016\u001B[39m\u001B[38;5;124m'\u001B[39m: \u001B[38;5;124m'\u001B[39m\u001B[38;5;124mmean\u001B[39m\u001B[38;5;124m'\u001B[39m,\n\u001B[0;32m     62\u001B[0m     \u001B[38;5;124m'\u001B[39m\u001B[38;5;124mAN0_2017\u001B[39m\u001B[38;5;124m'\u001B[39m: \u001B[38;5;124m'\u001B[39m\u001B[38;5;124mmean\u001B[39m\u001B[38;5;124m'\u001B[39m,\n\u001B[0;32m     63\u001B[0m     \u001B[38;5;124m'\u001B[39m\u001B[38;5;124mAN0_2018\u001B[39m\u001B[38;5;124m'\u001B[39m: \u001B[38;5;124m'\u001B[39m\u001B[38;5;124mmean\u001B[39m\u001B[38;5;124m'\u001B[39m,\n\u001B[0;32m     64\u001B[0m     \u001B[38;5;124m'\u001B[39m\u001B[38;5;124mAN0_2019\u001B[39m\u001B[38;5;124m'\u001B[39m: \u001B[38;5;124m'\u001B[39m\u001B[38;5;124mmean\u001B[39m\u001B[38;5;124m'\u001B[39m,\n\u001B[0;32m     65\u001B[0m     \u001B[38;5;124m'\u001B[39m\u001B[38;5;124mAN0_2020\u001B[39m\u001B[38;5;124m'\u001B[39m: \u001B[38;5;124m'\u001B[39m\u001B[38;5;124mmean\u001B[39m\u001B[38;5;124m'\u001B[39m,\n\u001B[0;32m     66\u001B[0m     \u001B[38;5;124m'\u001B[39m\u001B[38;5;124mAN0_2021\u001B[39m\u001B[38;5;124m'\u001B[39m: \u001B[38;5;124m'\u001B[39m\u001B[38;5;124mmean\u001B[39m\u001B[38;5;124m'\u001B[39m,\n\u001B[0;32m     67\u001B[0m     \u001B[38;5;124m'\u001B[39m\u001B[38;5;124mAN0_2022\u001B[39m\u001B[38;5;124m'\u001B[39m: \u001B[38;5;124m'\u001B[39m\u001B[38;5;124mmean\u001B[39m\u001B[38;5;124m'\u001B[39m,\n\u001B[0;32m     68\u001B[0m     \u001B[38;5;124m'\u001B[39m\u001B[38;5;124mAN0_2023\u001B[39m\u001B[38;5;124m'\u001B[39m: \u001B[38;5;124m'\u001B[39m\u001B[38;5;124mmean\u001B[39m\u001B[38;5;124m'\u001B[39m,\n\u001B[0;32m     69\u001B[0m     \u001B[38;5;124m'\u001B[39m\u001B[38;5;124mAN0_2024\u001B[39m\u001B[38;5;124m'\u001B[39m: \u001B[38;5;124m'\u001B[39m\u001B[38;5;124mmean\u001B[39m\u001B[38;5;124m'\u001B[39m,\n\u001B[0;32m     70\u001B[0m     \u001B[38;5;124m'\u001B[39m\u001B[38;5;124mCURSOS_TEC_CONCOMITANTE\u001B[39m\u001B[38;5;124m'\u001B[39m: \u001B[38;5;124m'\u001B[39m\u001B[38;5;124mmean\u001B[39m\u001B[38;5;124m'\u001B[39m,\n\u001B[0;32m     71\u001B[0m     \u001B[38;5;124m'\u001B[39m\u001B[38;5;124mCURSOS_TEC_INTEGRADO\u001B[39m\u001B[38;5;124m'\u001B[39m: \u001B[38;5;124m'\u001B[39m\u001B[38;5;124mmean\u001B[39m\u001B[38;5;124m'\u001B[39m,\n\u001B[0;32m     72\u001B[0m     \u001B[38;5;124m'\u001B[39m\u001B[38;5;124mCURSOS_TEC_SUBSEQUENTE\u001B[39m\u001B[38;5;124m'\u001B[39m: \u001B[38;5;124m'\u001B[39m\u001B[38;5;124mmean\u001B[39m\u001B[38;5;124m'\u001B[39m,\n\u001B[0;32m     73\u001B[0m     \u001B[38;5;124m'\u001B[39m\u001B[38;5;124mCURSOS_GRAD_MATUTINO\u001B[39m\u001B[38;5;124m'\u001B[39m: \u001B[38;5;124m'\u001B[39m\u001B[38;5;124mmean\u001B[39m\u001B[38;5;124m'\u001B[39m,\n\u001B[0;32m     74\u001B[0m     \u001B[38;5;124m'\u001B[39m\u001B[38;5;124mCURSOS_GRAD_VESPERTINO\u001B[39m\u001B[38;5;124m'\u001B[39m: \u001B[38;5;124m'\u001B[39m\u001B[38;5;124mmean\u001B[39m\u001B[38;5;124m'\u001B[39m,\n\u001B[0;32m     75\u001B[0m     \u001B[38;5;124m'\u001B[39m\u001B[38;5;124mCURSOS_GRAD_NOTURNO\u001B[39m\u001B[38;5;124m'\u001B[39m: \u001B[38;5;124m'\u001B[39m\u001B[38;5;124mmean\u001B[39m\u001B[38;5;124m'\u001B[39m,\n\u001B[0;32m     76\u001B[0m     \u001B[38;5;124m'\u001B[39m\u001B[38;5;124mCURSOS_POS\u001B[39m\u001B[38;5;124m'\u001B[39m: \u001B[38;5;124m'\u001B[39m\u001B[38;5;124mmean\u001B[39m\u001B[38;5;124m'\u001B[39m\n\u001B[0;32m     77\u001B[0m })\n\u001B[0;32m     79\u001B[0m df_merged\u001B[38;5;241m.\u001B[39mdrop(\u001B[38;5;124m\"\u001B[39m\u001B[38;5;124mMES\u001B[39m\u001B[38;5;124m\"\u001B[39m, axis\u001B[38;5;241m=\u001B[39m\u001B[38;5;241m1\u001B[39m)\u001B[38;5;241m.\u001B[39mto_csv(\u001B[38;5;124m\"\u001B[39m\u001B[38;5;124m./dados/dados_mesclados.csv\u001B[39m\u001B[38;5;124m\"\u001B[39m, sep\u001B[38;5;241m=\u001B[39m\u001B[38;5;124m\"\u001B[39m\u001B[38;5;124m;\u001B[39m\u001B[38;5;124m\"\u001B[39m, decimal\u001B[38;5;241m=\u001B[39m\u001B[38;5;124m\"\u001B[39m\u001B[38;5;124m.\u001B[39m\u001B[38;5;124m\"\u001B[39m, index\u001B[38;5;241m=\u001B[39m\u001B[38;5;28;01mFalse\u001B[39;00m)\n\u001B[0;32m     81\u001B[0m df_merged\n",
      "File \u001B[1;32m~\\miniconda3\\Lib\\site-packages\\pandas\\core\\groupby\\generic.py:1432\u001B[0m, in \u001B[0;36mDataFrameGroupBy.aggregate\u001B[1;34m(self, func, engine, engine_kwargs, *args, **kwargs)\u001B[0m\n\u001B[0;32m   1429\u001B[0m     kwargs[\u001B[38;5;124m\"\u001B[39m\u001B[38;5;124mengine_kwargs\u001B[39m\u001B[38;5;124m\"\u001B[39m] \u001B[38;5;241m=\u001B[39m engine_kwargs\n\u001B[0;32m   1431\u001B[0m op \u001B[38;5;241m=\u001B[39m GroupByApply(\u001B[38;5;28mself\u001B[39m, func, args\u001B[38;5;241m=\u001B[39margs, kwargs\u001B[38;5;241m=\u001B[39mkwargs)\n\u001B[1;32m-> 1432\u001B[0m result \u001B[38;5;241m=\u001B[39m op\u001B[38;5;241m.\u001B[39magg()\n\u001B[0;32m   1433\u001B[0m \u001B[38;5;28;01mif\u001B[39;00m \u001B[38;5;129;01mnot\u001B[39;00m is_dict_like(func) \u001B[38;5;129;01mand\u001B[39;00m result \u001B[38;5;129;01mis\u001B[39;00m \u001B[38;5;129;01mnot\u001B[39;00m \u001B[38;5;28;01mNone\u001B[39;00m:\n\u001B[0;32m   1434\u001B[0m     \u001B[38;5;66;03m# GH #52849\u001B[39;00m\n\u001B[0;32m   1435\u001B[0m     \u001B[38;5;28;01mif\u001B[39;00m \u001B[38;5;129;01mnot\u001B[39;00m \u001B[38;5;28mself\u001B[39m\u001B[38;5;241m.\u001B[39mas_index \u001B[38;5;129;01mand\u001B[39;00m is_list_like(func):\n",
      "File \u001B[1;32m~\\miniconda3\\Lib\\site-packages\\pandas\\core\\apply.py:190\u001B[0m, in \u001B[0;36mApply.agg\u001B[1;34m(self)\u001B[0m\n\u001B[0;32m    187\u001B[0m     \u001B[38;5;28;01mreturn\u001B[39;00m \u001B[38;5;28mself\u001B[39m\u001B[38;5;241m.\u001B[39mapply_str()\n\u001B[0;32m    189\u001B[0m \u001B[38;5;28;01mif\u001B[39;00m is_dict_like(func):\n\u001B[1;32m--> 190\u001B[0m     \u001B[38;5;28;01mreturn\u001B[39;00m \u001B[38;5;28mself\u001B[39m\u001B[38;5;241m.\u001B[39magg_dict_like()\n\u001B[0;32m    191\u001B[0m \u001B[38;5;28;01melif\u001B[39;00m is_list_like(func):\n\u001B[0;32m    192\u001B[0m     \u001B[38;5;66;03m# we require a list, but not a 'str'\u001B[39;00m\n\u001B[0;32m    193\u001B[0m     \u001B[38;5;28;01mreturn\u001B[39;00m \u001B[38;5;28mself\u001B[39m\u001B[38;5;241m.\u001B[39magg_list_like()\n",
      "File \u001B[1;32m~\\miniconda3\\Lib\\site-packages\\pandas\\core\\apply.py:423\u001B[0m, in \u001B[0;36mApply.agg_dict_like\u001B[1;34m(self)\u001B[0m\n\u001B[0;32m    415\u001B[0m \u001B[38;5;28;01mdef\u001B[39;00m \u001B[38;5;21magg_dict_like\u001B[39m(\u001B[38;5;28mself\u001B[39m) \u001B[38;5;241m-\u001B[39m\u001B[38;5;241m>\u001B[39m DataFrame \u001B[38;5;241m|\u001B[39m Series:\n\u001B[0;32m    416\u001B[0m \u001B[38;5;250m    \u001B[39m\u001B[38;5;124;03m\"\"\"\u001B[39;00m\n\u001B[0;32m    417\u001B[0m \u001B[38;5;124;03m    Compute aggregation in the case of a dict-like argument.\u001B[39;00m\n\u001B[0;32m    418\u001B[0m \n\u001B[1;32m   (...)\u001B[0m\n\u001B[0;32m    421\u001B[0m \u001B[38;5;124;03m    Result of aggregation.\u001B[39;00m\n\u001B[0;32m    422\u001B[0m \u001B[38;5;124;03m    \"\"\"\u001B[39;00m\n\u001B[1;32m--> 423\u001B[0m     \u001B[38;5;28;01mreturn\u001B[39;00m \u001B[38;5;28mself\u001B[39m\u001B[38;5;241m.\u001B[39magg_or_apply_dict_like(op_name\u001B[38;5;241m=\u001B[39m\u001B[38;5;124m\"\u001B[39m\u001B[38;5;124magg\u001B[39m\u001B[38;5;124m\"\u001B[39m)\n",
      "File \u001B[1;32m~\\miniconda3\\Lib\\site-packages\\pandas\\core\\apply.py:1608\u001B[0m, in \u001B[0;36mGroupByApply.agg_or_apply_dict_like\u001B[1;34m(self, op_name)\u001B[0m\n\u001B[0;32m   1603\u001B[0m     kwargs\u001B[38;5;241m.\u001B[39mupdate({\u001B[38;5;124m\"\u001B[39m\u001B[38;5;124mengine\u001B[39m\u001B[38;5;124m\"\u001B[39m: engine, \u001B[38;5;124m\"\u001B[39m\u001B[38;5;124mengine_kwargs\u001B[39m\u001B[38;5;124m\"\u001B[39m: engine_kwargs})\n\u001B[0;32m   1605\u001B[0m \u001B[38;5;28;01mwith\u001B[39;00m com\u001B[38;5;241m.\u001B[39mtemp_setattr(\n\u001B[0;32m   1606\u001B[0m     obj, \u001B[38;5;124m\"\u001B[39m\u001B[38;5;124mas_index\u001B[39m\u001B[38;5;124m\"\u001B[39m, \u001B[38;5;28;01mTrue\u001B[39;00m, condition\u001B[38;5;241m=\u001B[39m\u001B[38;5;28mhasattr\u001B[39m(obj, \u001B[38;5;124m\"\u001B[39m\u001B[38;5;124mas_index\u001B[39m\u001B[38;5;124m\"\u001B[39m)\n\u001B[0;32m   1607\u001B[0m ):\n\u001B[1;32m-> 1608\u001B[0m     result_index, result_data \u001B[38;5;241m=\u001B[39m \u001B[38;5;28mself\u001B[39m\u001B[38;5;241m.\u001B[39mcompute_dict_like(\n\u001B[0;32m   1609\u001B[0m         op_name, selected_obj, selection, kwargs\n\u001B[0;32m   1610\u001B[0m     )\n\u001B[0;32m   1611\u001B[0m result \u001B[38;5;241m=\u001B[39m \u001B[38;5;28mself\u001B[39m\u001B[38;5;241m.\u001B[39mwrap_results_dict_like(selected_obj, result_index, result_data)\n\u001B[0;32m   1612\u001B[0m \u001B[38;5;28;01mreturn\u001B[39;00m result\n",
      "File \u001B[1;32m~\\miniconda3\\Lib\\site-packages\\pandas\\core\\apply.py:462\u001B[0m, in \u001B[0;36mApply.compute_dict_like\u001B[1;34m(self, op_name, selected_obj, selection, kwargs)\u001B[0m\n\u001B[0;32m    460\u001B[0m is_groupby \u001B[38;5;241m=\u001B[39m \u001B[38;5;28misinstance\u001B[39m(obj, (DataFrameGroupBy, SeriesGroupBy))\n\u001B[0;32m    461\u001B[0m func \u001B[38;5;241m=\u001B[39m cast(AggFuncTypeDict, \u001B[38;5;28mself\u001B[39m\u001B[38;5;241m.\u001B[39mfunc)\n\u001B[1;32m--> 462\u001B[0m func \u001B[38;5;241m=\u001B[39m \u001B[38;5;28mself\u001B[39m\u001B[38;5;241m.\u001B[39mnormalize_dictlike_arg(op_name, selected_obj, func)\n\u001B[0;32m    464\u001B[0m is_non_unique_col \u001B[38;5;241m=\u001B[39m (\n\u001B[0;32m    465\u001B[0m     selected_obj\u001B[38;5;241m.\u001B[39mndim \u001B[38;5;241m==\u001B[39m \u001B[38;5;241m2\u001B[39m\n\u001B[0;32m    466\u001B[0m     \u001B[38;5;129;01mand\u001B[39;00m selected_obj\u001B[38;5;241m.\u001B[39mcolumns\u001B[38;5;241m.\u001B[39mnunique() \u001B[38;5;241m<\u001B[39m \u001B[38;5;28mlen\u001B[39m(selected_obj\u001B[38;5;241m.\u001B[39mcolumns)\n\u001B[0;32m    467\u001B[0m )\n\u001B[0;32m    469\u001B[0m \u001B[38;5;28;01mif\u001B[39;00m selected_obj\u001B[38;5;241m.\u001B[39mndim \u001B[38;5;241m==\u001B[39m \u001B[38;5;241m1\u001B[39m:\n\u001B[0;32m    470\u001B[0m     \u001B[38;5;66;03m# key only used for output\u001B[39;00m\n",
      "File \u001B[1;32m~\\miniconda3\\Lib\\site-packages\\pandas\\core\\apply.py:663\u001B[0m, in \u001B[0;36mApply.normalize_dictlike_arg\u001B[1;34m(self, how, obj, func)\u001B[0m\n\u001B[0;32m    661\u001B[0m     cols \u001B[38;5;241m=\u001B[39m Index(\u001B[38;5;28mlist\u001B[39m(func\u001B[38;5;241m.\u001B[39mkeys()))\u001B[38;5;241m.\u001B[39mdifference(obj\u001B[38;5;241m.\u001B[39mcolumns, sort\u001B[38;5;241m=\u001B[39m\u001B[38;5;28;01mTrue\u001B[39;00m)\n\u001B[0;32m    662\u001B[0m     \u001B[38;5;28;01mif\u001B[39;00m \u001B[38;5;28mlen\u001B[39m(cols) \u001B[38;5;241m>\u001B[39m \u001B[38;5;241m0\u001B[39m:\n\u001B[1;32m--> 663\u001B[0m         \u001B[38;5;28;01mraise\u001B[39;00m \u001B[38;5;167;01mKeyError\u001B[39;00m(\u001B[38;5;124mf\u001B[39m\u001B[38;5;124m\"\u001B[39m\u001B[38;5;124mColumn(s) \u001B[39m\u001B[38;5;132;01m{\u001B[39;00m\u001B[38;5;28mlist\u001B[39m(cols)\u001B[38;5;132;01m}\u001B[39;00m\u001B[38;5;124m do not exist\u001B[39m\u001B[38;5;124m\"\u001B[39m)\n\u001B[0;32m    665\u001B[0m aggregator_types \u001B[38;5;241m=\u001B[39m (\u001B[38;5;28mlist\u001B[39m, \u001B[38;5;28mtuple\u001B[39m, \u001B[38;5;28mdict\u001B[39m)\n\u001B[0;32m    667\u001B[0m \u001B[38;5;66;03m# if we have a dict of any non-scalars\u001B[39;00m\n\u001B[0;32m    668\u001B[0m \u001B[38;5;66;03m# eg. {'A' : ['mean']}, normalize all to\u001B[39;00m\n\u001B[0;32m    669\u001B[0m \u001B[38;5;66;03m# be list-likes\u001B[39;00m\n\u001B[0;32m    670\u001B[0m \u001B[38;5;66;03m# Cannot use func.values() because arg may be a Series\u001B[39;00m\n",
      "\u001B[1;31mKeyError\u001B[0m: \"Column(s) ['AN0_2014', 'AN0_2015', 'AN0_2016', 'AN0_2017', 'AN0_2018', 'AN0_2019', 'AN0_2020', 'AN0_2021', 'AN0_2022', 'AN0_2023', 'AN0_2024', 'PRECIPITAÇÃO_ACC_MENS', 'PRECIPITAÇÃO_MAX_MENS', 'PRECIPITAÇÃO_MED_MENS', 'PRECIPITAÇÃO_MIN_MENS', 'TEMP_MAX_ACC_MENS', 'TEMP_MAX_MAX_MENS', 'TEMP_MAX_MED_MENS', 'TEMP_MAX_MIN_MENS', 'TEMP_MIN_ACC_MENS', 'TEMP_MIN_MAX_MENS', 'TEMP_MIN_MED_MENS', 'TEMP_MIN_MIN_MENS', 'TEMP_MÉD_ACC_MENS', 'TEMP_MÉD_MAX_MENS', 'TEMP_MÉD_MED_MENS', 'TEMP_MÉD_MIN_MENS'] do not exist\""
     ]
    }
   ],
   "execution_count": 104
  },
  {
   "metadata": {},
   "cell_type": "code",
   "outputs": [],
   "execution_count": null,
   "source": "",
   "id": "9a543cee5b16ccf"
  }
 ],
 "metadata": {
  "kernelspec": {
   "display_name": "Python 3",
   "language": "python",
   "name": "python3"
  },
  "language_info": {
   "codemirror_mode": {
    "name": "ipython",
    "version": 2
   },
   "file_extension": ".py",
   "mimetype": "text/x-python",
   "name": "python",
   "nbconvert_exporter": "python",
   "pygments_lexer": "ipython2",
   "version": "2.7.6"
  }
 },
 "nbformat": 4,
 "nbformat_minor": 5
}
