{
 "cells": [
  {
   "metadata": {},
   "cell_type": "markdown",
   "source": "# Importações",
   "id": "9cc7a4c844a5230e"
  },
  {
   "cell_type": "code",
   "id": "initial_id",
   "metadata": {
    "collapsed": true,
    "ExecuteTime": {
     "end_time": "2025-01-16T01:02:19.974503Z",
     "start_time": "2025-01-16T01:02:19.435620Z"
    }
   },
   "source": [
    "from calendar import month\n",
    "\n",
    "import pandas as pd\n",
    "import datetime\n",
    "import calendar\n",
    "import locale\n",
    "import numpy as np\n",
    "import glob\n",
    "import os\n",
    "import math\n",
    "\n",
    "from jinja2 import Undefined\n",
    "\n",
    "locale.setlocale(locale.LC_TIME, 'pt_BR.UTF-8')\n"
   ],
   "outputs": [
    {
     "data": {
      "text/plain": [
       "'pt_BR.UTF-8'"
      ]
     },
     "execution_count": 1,
     "metadata": {},
     "output_type": "execute_result"
    }
   ],
   "execution_count": 1
  },
  {
   "metadata": {},
   "cell_type": "markdown",
   "source": "# Carregar datasets",
   "id": "72f220b34ac4c7bb"
  },
  {
   "metadata": {
    "ExecuteTime": {
     "end_time": "2025-01-16T01:05:06.852310Z",
     "start_time": "2025-01-16T01:05:06.824430Z"
    }
   },
   "cell_type": "code",
   "source": [
    "consumo = pd.read_csv('./dados/consumo.csv', sep=\";\", header=0)\n",
    "consumo[\"DATA INICIO\"] = pd.to_datetime(consumo['DATA INICIO'], format='%d/%m/%Y')\n",
    "consumo[\"DATA FIM\"] = pd.to_datetime(consumo['DATA FIM'], format='%d/%m/%Y')\n",
    "feriados = pd.read_csv('dados/calendarios.csv', sep=\";\", header=0)\n",
    "cursos_sup = pd.read_csv('./dados/cursos_superiores.csv', sep=\";\", header=0)\n",
    "cursos_tec = pd.read_csv('./dados/cursos_tecnicos.csv', sep=\";\", header=0)\n"
   ],
   "id": "eef2d87d2ab50d81",
   "outputs": [],
   "execution_count": 10
  },
  {
   "metadata": {},
   "cell_type": "markdown",
   "source": "# Agrupamento dos Datasets\n",
   "id": "e8c1b6d47fd60663"
  },
  {
   "metadata": {
    "ExecuteTime": {
     "end_time": "2025-01-16T01:05:07.767328Z",
     "start_time": "2025-01-16T01:05:07.753559Z"
    }
   },
   "cell_type": "code",
   "source": [
    "\n",
    "# Agrupando os dados por campus \n",
    "grupos_consumo = consumo.groupby('CAMPUS')\n",
    "grupos_feriados = feriados.groupby('CAMPUS')\n",
    "grupos_cursos_sup = cursos_sup.query('Modalidade == \"Educação Presencial\"').groupby('CAMPUS')\n",
    "grupos_cursos_tec = cursos_tec.groupby('CAMPUS')\n",
    "\n",
    "# Criando subdatasets para cada campus \n",
    "subdf_consumo = {campus: dados for campus, dados in grupos_consumo}\n",
    "subdf_feriados = {campus: dados for campus, dados in grupos_feriados}\n",
    "subdf_cursos_sup = {campus: dados for campus, dados in grupos_cursos_sup}\n",
    "subdf_cursos_tec = {campus: dados for campus, dados in grupos_cursos_tec}\n",
    "\n"
   ],
   "id": "17009c1c04179966",
   "outputs": [],
   "execution_count": 11
  },
  {
   "metadata": {},
   "cell_type": "markdown",
   "source": "# Normalização dos meses de Consumo para o mesmo periodo",
   "id": "89f0e6dc45361d31"
  },
  {
   "metadata": {
    "ExecuteTime": {
     "end_time": "2025-01-16T01:38:06.101306Z",
     "start_time": "2025-01-16T01:38:04.245328Z"
    }
   },
   "cell_type": "code",
   "source": [
    "dataframes = []\n",
    "dataframes_ignorados = []\n",
    "for campus, df_consumo in subdf_consumo.items():\n",
    "    dt_min = subdf_consumo[campus][\"DATA INICIO\"].min()\n",
    "    dt_max = subdf_consumo[campus][\"DATA FIM\"].max()\n",
    "\n",
    "    datas = pd.date_range(start=dt_min, end=dt_max)\n",
    "    df = pd.DataFrame({'DATA': datas})\n",
    "    df[\"CAMPUS\"] = campus\n",
    "\n",
    "    for index, row in df_consumo.iterrows():\n",
    "        dt_inicio = row['DATA INICIO']\n",
    "        dt_fim = row['DATA FIM']\n",
    "        nr_dias = (dt_fim - dt_inicio).days + 1\n",
    "\n",
    "        mascara = (df['DATA'] >= pd.to_datetime(dt_inicio)) & (df['DATA'] <= pd.to_datetime(dt_fim))\n",
    "        df.loc[mascara, \"CONSUMO\"] = row[\"CONSUMO\"] / nr_dias\n",
    "\n",
    "    if \"PARANAGUÁ\" in campus:\n",
    "        dataframes_ignorados.append(df)\n",
    "    else:\n",
    "        dataframes.append(df)\n",
    "\n",
    "df_merged = pd.merge(dataframes_ignorados[0], dataframes_ignorados[1], on='DATA', how='inner', suffixes=('_df1', '_df2'))\n",
    "df_merged[\"CONSUMO\"] = df_merged[\"CONSUMO_df1\"].fillna(0) + df_merged[\"CONSUMO_df2\"].fillna(0)\n",
    "df_merged[\"CAMPUS\"] = \"PARANAGUÁ\"\n",
    "df_merged = df_merged.drop([\"CONSUMO_df1\", \"CONSUMO_df2\", \"CAMPUS_df1\", \"CAMPUS_df2\"],axis=1)\n",
    "dataframes.append(df_merged)\n",
    "\n",
    "df_consumo_normalizado = pd.concat(dataframes, ignore_index=True)\n",
    "\n",
    "df_consumo_normalizado.to_csv(\"./dados/dados_consumo_normalizados.csv\", sep=\";\", decimal=\".\", index=False)\n",
    "grupos_consumo_normalizado = df_consumo_normalizado.groupby('CAMPUS')\n",
    "subdf_consumo_normalizado = {campus: dados for campus, dados in grupos_consumo_normalizado}\n"
   ],
   "id": "6f8cf2d9ae48012e",
   "outputs": [],
   "execution_count": 29
  },
  {
   "metadata": {},
   "cell_type": "markdown",
   "source": "# Criação dos Datasets conforme Calendários Acadêmicos",
   "id": "82c927b3472b68c1"
  },
  {
   "metadata": {
    "ExecuteTime": {
     "end_time": "2025-01-16T01:54:43.773626Z",
     "start_time": "2025-01-16T01:53:40.270505Z"
    }
   },
   "cell_type": "code",
   "source": [
    "\n",
    "for campus, df_feriados in subdf_consumo_normalizado.items():\n",
    "    dt_min = pd.to_datetime(subdf_consumo_normalizado[campus][\"DATA\"]).min()\n",
    "    dt_max = pd.to_datetime(subdf_consumo_normalizado[campus][\"DATA\"]).max()\n",
    "\n",
    "    dt_inicio = datetime.date(year=2010, month=1, day=1)\n",
    "    dt_fim = datetime.date.today()\n",
    "\n",
    "    datas = pd.date_range(start=dt_inicio, end=dt_fim)\n",
    "    df = pd.DataFrame({'DATA': datas})\n",
    "    df[\"CAMPUS\"] = campus\n",
    "\n",
    "    for index, row in df.iterrows():\n",
    "        data = row['DATA'].date()\n",
    "        dia = data.day\n",
    "        mes = data.month\n",
    "        ano = data.year\n",
    "\n",
    "        rows_data_fixa = feriados.loc[feriados[\"DATA INICIO\"] == f\"{dia}/{mes}\"]\n",
    "        rows_data_flexivel = feriados.loc[feriados[\"DATA INICIO\"] == f\"{dia:02}/{mes:02}/{ano:04}\"]\n",
    "\n",
    "        if not rows_data_fixa.empty:\n",
    "            for _, row_data_fixa in rows_data_fixa.iterrows():\n",
    "                if campus in row_data_fixa[\"CAMPUS\"] or row_data_fixa[\"CAMPUS\"] == \"*\":\n",
    "                    [dia_final_fixo, mes_final_fixo] = str(row_data_fixa[\"DATA FIM\"]).split(\"/\")\n",
    "                    data_final_fixa = datetime.date(ano, int(mes_final_fixo), int(dia_final_fixo))\n",
    "                    mascara = (df['DATA'] >= pd.to_datetime(data)) & (df['DATA'] <= pd.to_datetime(data_final_fixa))\n",
    "                    df.loc[mascara, row_data_fixa[\"MOTIVO\"]] = 1\n",
    "\n",
    "        if not rows_data_flexivel.empty:\n",
    "            for _, row_data_flexivel in rows_data_flexivel.iterrows():\n",
    "                if campus in row_data_flexivel[\"CAMPUS\"] or row_data_flexivel[\"CAMPUS\"] == \"*\":\n",
    "                    [dia_final_flexivel, mes_final_flexivel, ano_final_flexivel] = str(\n",
    "                        row_data_flexivel[\"DATA FIM\"]).split(\"/\")\n",
    "                    data_final_flexivel = datetime.date(int(ano_final_flexivel), int(mes_final_flexivel),\n",
    "                                                        int(dia_final_flexivel))\n",
    "                    mascara = (df['DATA'] >= pd.to_datetime(data)) & (df['DATA'] <= pd.to_datetime(data_final_flexivel))\n",
    "                    df.loc[mascara, row_data_flexivel[\"MOTIVO\"]] = 1\n",
    "\n",
    "    df = df.fillna(0)\n",
    "    df = df.loc[(df['DATA'] >= dt_min) & (df['DATA'] <= dt_max)]\n",
    "    df.to_csv(f\"./dados/calendarios/{campus}.csv\", index=False, sep=\";\", decimal=\".\")\n"
   ],
   "id": "1852980aa8390ff0",
   "outputs": [],
   "execution_count": 44
  },
  {
   "metadata": {},
   "cell_type": "markdown",
   "source": "# Criação do Dataset de Dados Temporais",
   "id": "390c839a01e859c7"
  },
  {
   "metadata": {},
   "cell_type": "code",
   "source": [
    "pasta = './dados/calendarios/'\n",
    "\n",
    "# Obter uma lista de todos os arquivos .csv na pasta\n",
    "arquivos_csv = glob.glob(os.path.join(pasta, \"*.csv\"))\n",
    "# Criar uma lista para armazenar os DataFrames\n",
    "dataframes = []\n",
    "\n",
    "# Iterar sobre a lista de arquivos .csv e ler cada um em um DataFrame\n",
    "for arquivo in arquivos_csv:\n",
    "    df = pd.read_csv(arquivo, sep=\";\", header=0)\n",
    "    df['CAMPUS'] = os.path.basename(arquivo.replace(\".csv\", \"\"))\n",
    "    df['DATA'] = pd.to_datetime(df['DATA'])\n",
    "    df['DIA_DA_SEMANA'] = df['DATA'].dt.strftime('%a')\n",
    "    df['MÊS'] = df['DATA'].dt.strftime('%b')\n",
    "    df['ANO'] = df['DATA'].dt.strftime('%Y')\n",
    "    df = pd.get_dummies(df, columns=['DIA_DA_SEMANA', \"MÊS\", \"ANO\"])\n",
    "    df = df.fillna(False)\n",
    "    df[df.drop([\"CAMPUS\", \"DATA\"], axis=1).columns] = df[df.drop([\"CAMPUS\", \"DATA\"], axis=1).columns].astype(int)\n",
    "    dataframes.append(df)\n",
    "\n",
    "# Concatenar todos os DataFrames em um único DataFrame\n",
    "df_completo = pd.concat(dataframes, ignore_index=True)\n",
    "df_completo = df_completo.fillna(0)\n",
    "\n",
    "df_completo.to_csv(\"./dados/dados_temporais.csv\", sep=\";\", decimal=\".\", index=False)\n"
   ],
   "id": "38f32a01bfda035",
   "outputs": [],
   "execution_count": null
  },
  {
   "metadata": {},
   "cell_type": "markdown",
   "source": "# Criação dos Datasets conforme Cursos Superiores (E-MEC)",
   "id": "9f059a4200f52692"
  },
  {
   "metadata": {
    "ExecuteTime": {
     "end_time": "2025-01-16T02:01:58.395590Z",
     "start_time": "2025-01-16T02:01:57.547866Z"
    }
   },
   "cell_type": "code",
   "source": [
    "for campus, df_cursos_sup in subdf_cursos_sup.items():\n",
    "    dt_min = pd.to_datetime(subdf_consumo_normalizado[campus][\"DATA\"]).min()\n",
    "    dt_max = pd.to_datetime(subdf_consumo_normalizado[campus][\"DATA\"]).max()\n",
    "\n",
    "    datas = pd.date_range(start=pd.to_datetime(df_cursos_sup[\"Início Funcionamento\"], format='%d/%m/%Y').min(),\n",
    "                          end=datetime.date.today())\n",
    "    df = pd.DataFrame({'DATA': datas})\n",
    "    df[\"CAMPUS\"] = campus\n",
    "    df[\"TURMAS_GRAD_MATUTINO\"] = 0\n",
    "    df[\"TURMAS_GRAD_VESPERTINO\"] = 0\n",
    "    df[\"TURMAS_GRAD_NOTURNO\"] = 0\n",
    "    df[\"TURMAS_POS\"] = 0\n",
    "\n",
    "    for index, row in df_cursos_sup.iterrows():\n",
    "        dt_inicio = pd.to_datetime(row[\"Início Funcionamento\"], format='%d/%m/%Y')\n",
    "        if row[\"Grau\"] in [\"Bacharelado\", \"Tecnológico\", \"Licenciatura\"]:\n",
    "            if row[\"Quantitativo de Vagas - Integral\"] > 0:\n",
    "                n_anos = row[\"Integralização - Turno Noturno (ANOS)\"]\n",
    "                df.loc[(df['DATA'] >= pd.to_datetime(dt_inicio)), \"TURMAS_GRAD_MATUTINO\"] += math.ceil(n_anos)\n",
    "                df.loc[(df['DATA'] >= pd.to_datetime(dt_inicio)), \"TURMAS_GRAD_VESPERTINO\"] += math.ceil(n_anos)\n",
    "\n",
    "                if campus != \"LONDRINA - NORTE\":\n",
    "                    for i in range(1, math.floor(n_anos)):\n",
    "                        df.loc[(df['DATA'] <= pd.to_datetime(dt_inicio) + pd.DateOffset(\n",
    "                            years=i)), \"TURMAS_GRAD_MATUTINO\"] -= 1\n",
    "                        df.loc[(df['DATA'] <= pd.to_datetime(dt_inicio) + pd.DateOffset(\n",
    "                            years=i)), \"TURMAS_GRAD_VESPERTINO\"] -= 1\n",
    "\n",
    "                    if n_anos % 1 == 5:\n",
    "                        df.loc[(df['DATA'] >= pd.to_datetime(dt_inicio) + pd.DateOffset(years=n_anos) and df[\n",
    "                            'DATA'] <= pd.to_datetime(dt_inicio) + pd.DateOffset(\n",
    "                            years=math.ceil(n_anos))), \"TURMAS_GRAD_MATUTINO\"] -= 1\n",
    "                        df.loc[(df['DATA'] >= pd.to_datetime(dt_inicio) + pd.DateOffset(years=n_anos) and df[\n",
    "                            'DATA'] <= pd.to_datetime(dt_inicio) + pd.DateOffset(\n",
    "                            years=math.ceil(n_anos))), \"TURMAS_GRAD_VESPERTINO\"] -= 1\n",
    "\n",
    "            else:\n",
    "                if row[\"Quantitativo de Vagas - Matutino\"] > 0:\n",
    "                    n_anos = row[\"Integralização - Turno Matutino (ANOS)\"]\n",
    "                    df.loc[(df['DATA'] >= pd.to_datetime(dt_inicio)), \"TURMAS_GRAD_MATUTINO\"] += math.ceil(n_anos)\n",
    "                    if campus != \"LONDRINA - NORTE\":\n",
    "                        for i in range(1, math.floor(n_anos)):\n",
    "                            df.loc[(df['DATA'] <= pd.to_datetime(dt_inicio) + pd.DateOffset(\n",
    "                                years=i)), \"TURMAS_GRAD_MATUTINO\"] -= 1\n",
    "\n",
    "                if row[\"Quantitativo de Vagas - Vespertino\"] > 0:\n",
    "                    n_anos = row[\"Integralização - Turno Vespertino (ANOS)\"]\n",
    "                    df.loc[(df['DATA'] >= pd.to_datetime(dt_inicio)), \"TURMAS_GRAD_VESPERTINO\"] += math.ceil(n_anos)\n",
    "                    if campus != \"LONDRINA - NORTE\":\n",
    "                        for i in range(1, math.floor(n_anos)):\n",
    "                            df.loc[(df['DATA'] <= pd.to_datetime(dt_inicio) + pd.DateOffset(\n",
    "                                years=i)), \"TURMAS_GRAD_VESPERTINO\"] -= 1\n",
    "\n",
    "            if row[\"Quantitativo de Vagas - Noturno\"] > 0:\n",
    "                n_anos = row[\"Integralização - Turno Noturno (ANOS)\"]\n",
    "                df.loc[(df['DATA'] >= pd.to_datetime(dt_inicio)), \"TURMAS_GRAD_NOTURNO\"] += math.ceil(n_anos)\n",
    "                if campus != \"LONDRINA - NORTE\":\n",
    "                    for i in range(1, math.floor(n_anos)):\n",
    "                        df.loc[(df['DATA'] >= pd.to_datetime(dt_inicio)) & (df['DATA'] <= pd.to_datetime(dt_inicio) + pd.DateOffset(\n",
    "                            years=i)), \"TURMAS_GRAD_NOTURNO\"] -= 1\n",
    "\n",
    "        elif row[\"Grau\"] == \"Especialização\":\n",
    "            df.loc[(df['DATA'] >= pd.to_datetime(dt_inicio)), \"TURMAS_POS\"] += 1\n",
    "        elif row[\"Grau\"] == \"Mestrado\":\n",
    "            # Acrescenta 2 turmas pois o mestrado geralmente tem duração bianual e novas admissões anuais\n",
    "            df.loc[(df['DATA'] >= pd.to_datetime(dt_inicio)), \"TURMAS_POS\"] += 2\n",
    "            # Remove 1 turma pois no primeiro ano geralmente só há 1 turma (mestrados são 2 anos)\n",
    "            df.loc[(df['DATA'] >= pd.to_datetime(dt_inicio)) & (df['DATA'] <= pd.to_datetime(dt_inicio) + pd.DateOffset(years=1)), \"TURMAS_POS\"] -= 1\n",
    "\n",
    "    df = df.fillna(0)\n",
    "    df = df.loc[(df['DATA'] >= dt_min) & (df['DATA'] <= dt_max)]\n",
    "    df.to_csv(f\"./dados/cursos/{campus}.csv\", index=False, sep=\";\", decimal=\".\")\n",
    "\n"
   ],
   "id": "fd5b0245a9347095",
   "outputs": [],
   "execution_count": 51
  },
  {
   "metadata": {},
   "cell_type": "code",
   "outputs": [],
   "execution_count": null,
   "source": "",
   "id": "7fda98154651ec65"
  }
 ],
 "metadata": {
  "kernelspec": {
   "display_name": "Python 3",
   "language": "python",
   "name": "python3"
  },
  "language_info": {
   "codemirror_mode": {
    "name": "ipython",
    "version": 2
   },
   "file_extension": ".py",
   "mimetype": "text/x-python",
   "name": "python",
   "nbconvert_exporter": "python",
   "pygments_lexer": "ipython2",
   "version": "2.7.6"
  }
 },
 "nbformat": 4,
 "nbformat_minor": 5
}
